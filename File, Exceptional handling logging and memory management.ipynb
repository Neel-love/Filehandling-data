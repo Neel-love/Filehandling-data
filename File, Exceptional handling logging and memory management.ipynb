{
 "cells": [
  {
   "cell_type": "markdown",
   "id": "c3ada62e-5bac-41ab-95df-2a36fe5a6b5e",
   "metadata": {},
   "source": [
    "#              File handling Question"
   ]
  },
  {
   "cell_type": "markdown",
   "id": "cc7f8e35-5a19-42e1-83e0-508827eb5ba1",
   "metadata": {},
   "source": [
    "1.What is the difference between interpreted and compiled languages?\n",
    "  - Difference between Interpreted and Compiled Languages:\n",
    "    - Translation Timing:\n",
    "           - Compiled languages translate code before execution; interpreted languages translate it during execution.\n",
    "    - Speed:\n",
    "           - Compiled languages usually run faster; interpreted languages are slower but more flexible"
   ]
  },
  {
   "cell_type": "markdown",
   "id": "a8094894-dfc7-4a45-ad4b-8703c75c4b67",
   "metadata": {},
   "source": [
    "2. What is exception handling in Python?\n",
    "   - Exception handling in Python is a mechanism to manage errors that occur during program execution, preventing crashes and allowing for graceful     recovery. It involves using try, except, else, and finally blocks to handle unexpected events."
   ]
  },
  {
   "cell_type": "markdown",
   "id": "8b74a1a5-8a30-4c0d-a82f-5995d17fab61",
   "metadata": {},
   "source": [
    "3. What is the purpose of the finally block in exception handling?\n",
    "   - The finally block in exception handling serves a crucial purpose: it ensures that a specific piece of code is executed no matter what, whether an exception occurs or not. This makes it ideal for cleanup actions or releasing resources that must always be performed, regardless of the program's flow."
   ]
  },
  {
   "cell_type": "markdown",
   "id": "aaaa9e66-82bb-428a-88a2-adc3d377a79b",
   "metadata": {},
   "source": [
    "4. What is logging in Python?\n",
    "   - Logging in Python is a built-in module (logging) that allows developers to track events during the execution of a program. It provides a flexible and configurable way to record messages, errors, and other information, which is useful for debugging, monitoring, and auditing applications."
   ]
  },
  {
   "cell_type": "markdown",
   "id": "cdd13240-60ea-4a55-8b74-adeedfc1f8bd",
   "metadata": {},
   "source": [
    "5. What is the significance of the __del__ method in Python?\n",
    "   - The __del__ method in Python is a special method, also known as a destructor, that is called when an object is about to be destroyed. This typically happens when the object is no longer in use and is being garbage collected. The __del__ method allows you to define cleanup actions or finalization logic that should be executed before the object is removed from memory."
   ]
  },
  {
   "cell_type": "markdown",
   "id": "20ef7d84-26bc-4695-880c-dac601fb47c0",
   "metadata": {},
   "source": [
    "6. What is the difference between import and from ... import in Python?\n",
    "   - import brings the entire module, requiring a prefix to access its components.\n",
    "\n",
    "   - from ... import brings specific components directly into the namespace, allowing direct access.\n",
    "\n",
    "    - Choose the appropriate method based on your needs and the potential for naming conflicts.\n",
    "\n"
   ]
  },
  {
   "cell_type": "markdown",
   "id": "7b3d173b-6a6d-47e3-a1bb-b431ada90cd6",
   "metadata": {},
   "source": [
    "7. How can you handle multiple exceptions in Python?\n",
    "   - You can handle different exceptions separately by specifying multiple except blocks. Each block will handle a specific exception type.\n",
    "   - you can handle multiple exceptions in a single except block by specifying them as a tuple.\n",
    "     "
   ]
  },
  {
   "cell_type": "markdown",
   "id": "457335cd-c94c-41f9-8942-ce337ac2fb1d",
   "metadata": {},
   "source": [
    "8. What is the purpose of the with statement when handling files in Python?\n",
    "   - The with statement in Python is used to simplify resource management, particularly when working with files. It ensures that resources like file handles, network connections, or database connections are properly acquired and released, even if an error occurs during execution. This makes code cleaner, safer, and less prone to resource leaks."
   ]
  },
  {
   "cell_type": "markdown",
   "id": "1ddfc5dc-815a-4b6a-918a-1b34829c72c9",
   "metadata": {},
   "source": [
    "9.  What is the difference between multithreading and multiprocessing?\n",
    "    - Use Multithreading for:\n",
    "      -  (e.g., downloading files, handling network requests)\n",
    "    - Use Multiprocessing for:\n",
    "      - e.g., data processing, mathematical computations).\n",
    "        Tasks requiring true parallelism and full CPU utilization."
   ]
  },
  {
   "cell_type": "markdown",
   "id": "895676ec-e093-489d-a2b3-e4f4df014917",
   "metadata": {},
   "source": [
    "10. What are the advantages of using logging in a program\n",
    "   - Using logging in a program offers several advantages over simply using print statements or other ad-hoc methods for tracking events. Logging is a powerful tool for debugging, monitoring, and maintaining applications"
   ]
  },
  {
   "cell_type": "markdown",
   "id": "154a6ff4-b199-4ed1-a8a8-f703e4a9d079",
   "metadata": {},
   "source": [
    "11. What is memory management in Python?\n",
    "    - Memory management in Python refers to how the Python interpreter handles the allocation and deallocation of memory for objects during program execution. Python uses a combination of techniques, including automatic memory management, to ensure efficient use of memory and prevent issues like memory leaks."
   ]
  },
  {
   "cell_type": "markdown",
   "id": "fcce5c74-14e4-4886-a560-8d5c19f6995f",
   "metadata": {},
   "source": [
    "12. What are the basic steps involved in exception handling in Python?\n",
    "    - try Block: Enclose code that might raise an exception.\n",
    "\n",
    "    - except Block: Catch and handle specific exceptions.\n",
    "\n",
    "    - else Block: Execute code if no exceptions occur.\n",
    "\n",
    "    - finally Block: Execute cleanup code, regardless of exceptions.\n",
    "\n",
    "    - raise Statement: Raise custom exceptions when needed.\n",
    "\n",
    "    - Logging: Log exceptions for debugging and monitoring."
   ]
  },
  {
   "cell_type": "markdown",
   "id": "aba3d7ba-47ee-43db-88ee-9610b0dbb259",
   "metadata": {},
   "source": [
    "13.  Why is memory management important in Python?\n",
    "     - Memory management is essential for efficient, stable, and scalable Python applications.\n",
    "\n",
    "     - Python's automatic memory management (garbage collection and reference counting) simplifies development but still requires awareness from developers.\n",
    "\n",
    "     - Proper memory management prevents crashes, improves performance, and makes applications easier to maintain."
   ]
  },
  {
   "cell_type": "markdown",
   "id": "c6f9d51c-f25a-49f4-9b61-25f4f3b7c0be",
   "metadata": {},
   "source": [
    "14. What is the role of try and except in exception handling?\n",
    "    - The try and except blocks are fundamental to exception handling in Python. They allow you to handle errors gracefully, preventing your program from crashing and enabling you to manage unexpected situations effectively"
   ]
  },
  {
   "cell_type": "markdown",
   "id": "25bd5523-205b-46e2-a0e5-d4eafd7ef632",
   "metadata": {},
   "source": [
    "15. How does Python's garbage collection system work?\n",
    "    - Python's garbage collection system is responsible for automatically managing memory by reclaiming unused objects and freeing up resources. It ensures that memory is used efficiently and prevents memory leaks. Python uses a combination of reference counting and a cyclic garbage collector to achieve this."
   ]
  },
  {
   "cell_type": "markdown",
   "id": "36350da3-1501-4cc0-81e9-85f8c5593166",
   "metadata": {},
   "source": [
    "16. What is the purpose of the else block in exception handling?\n",
    "    - The else block in Python's exception handling is used to define code that should execute only if no exceptions occur in the try block. It provides a way to separate the code that might raise exceptions from the code that should run only when the try block succeeds. This makes the program's logic clearer and more organized."
   ]
  },
  {
   "cell_type": "markdown",
   "id": "53bcc201-bb1a-42dd-8121-ee0cc6e30733",
   "metadata": {},
   "source": [
    "17. What are the common logging levels in Python?\n",
    "    - In Python's logging module, logging levels are used to categorize log messages based on their severity or importance. Each level has a numeric value associated with it, and you can configure the logging system to display or save messages at or above a specific level"
   ]
  },
  {
   "cell_type": "markdown",
   "id": "1d8bbb73-7a5f-4e5b-9ee6-fcdff62eff76",
   "metadata": {},
   "source": [
    "18. What is the difference between os.fork() and multiprocessing in Python?\n",
    "    * Use os.fork():\n",
    "       * When you need low-level control over process creation.\n",
    "\n",
    "       * When working on Unix-like systems and performance is critical.\n",
    "\n",
    "       * When you are comfortable managing shared resources and synchronization manually.\n",
    "     \n",
    "    - Use multiprocessing:\n",
    "       - When you need a portable and high-level API for process management.\n",
    "\n",
    "       - When you want built-in features like process pools, queues, and shared memory.\n",
    "\n",
    "       - When working on cross-platform applications."
   ]
  },
  {
   "cell_type": "markdown",
   "id": "48058519-e392-4cd2-abe7-80e744b1b225",
   "metadata": {},
   "source": [
    "19. What is the importance of closing a file in Python?\n",
    "    - Closing a file in Python is crucial for several reasons, as it ensures proper resource management, prevents data corruption, and maintains system stability"
   ]
  },
  {
   "cell_type": "markdown",
   "id": "0fc68083-e717-49cd-b072-9f888a71f2ea",
   "metadata": {},
   "source": [
    "20. What is the difference between file.read() and file.readline() in Python?\n",
    "    - file.read()\n",
    "        - Reads the entire content of the file as a single string.\n",
    "    -  file.readline()\n",
    "        - Reads a single line from the file, including the newline character (\\n).\n",
    "\n",
    "        - Each call to file.readline() reads the next line in the file."
   ]
  },
  {
   "cell_type": "markdown",
   "id": "4c0a0c60-a3fd-41b4-a85a-c908cd8db69e",
   "metadata": {},
   "source": [
    "21. What is the logging module in Python used for?\n",
    "    - The logging module in Python is a powerful and flexible built-in module used for tracking events that occur during the execution of a program. It provides a standardized way to record log messages, making it easier to debug, monitor, and analyze the behavior of applications."
   ]
  },
  {
   "cell_type": "markdown",
   "id": "0e84b5ff-c3fc-482a-986c-d5915bd010ba",
   "metadata": {},
   "source": [
    "22. What is the os module in Python used for in file handling?\n",
    "    - The os module in Python provides a way to interact with the operating system, including file and directory operations. It is particularly useful for file handling tasks that go beyond reading and writing files, such as managing file paths, checking file properties, and performing system-level operations"
   ]
  },
  {
   "cell_type": "markdown",
   "id": "27e9961a-ea35-45cb-9551-c9adb7b85a2e",
   "metadata": {},
   "source": [
    "23. What are the challenges associated with memory management in Python?\n",
    "    - While Python's automatic memory management simplifies development, it also introduces challenges such as memory leaks, circular references, and high memory usage. By understanding these challenges and adopting best practices, developers can write more efficient and reliable Python programs."
   ]
  },
  {
   "cell_type": "markdown",
   "id": "d69ef4b7-cdcf-4957-b201-b795a601a9c1",
   "metadata": {},
   "source": [
    "24. How do you raise an exception manually in Python?\n",
    "    - In Python, you can raise an exception manually using the raise statement. This allows you to signal errors or exceptional conditions in your code, even if they are not automatically detected by the Python interpreter"
   ]
  },
  {
   "cell_type": "markdown",
   "id": "4fd5aa5b-163d-4ba7-8970-0ea00cabcf2d",
   "metadata": {},
   "source": [
    "25. Why is it important to use multithreading in certain applications?\n",
    "    - Multithreading is a programming technique that allows multiple threads to run concurrently within a single process. It is particularly important in certain applications because it can improve performance, responsiveness, and resource utilization\n"
   ]
  },
  {
   "cell_type": "markdown",
   "id": "a981993e-90f0-459e-b966-a42a73ce34e8",
   "metadata": {},
   "source": [
    "#     Practical Questions"
   ]
  },
  {
   "cell_type": "code",
   "execution_count": 1,
   "id": "8d557da7-a66a-4931-a366-6dd2591a33a6",
   "metadata": {},
   "outputs": [
    {
     "name": "stdout",
     "output_type": "stream",
     "text": [
      "File written successfully.\n"
     ]
    }
   ],
   "source": [
    "#1-How can you open a file for writing in Python and write a string to it\n",
    "\n",
    "with open(\"example.txt\", \"w\") as file:\n",
    "    file.write(\"Hello, world!\")\n",
    "\n",
    "print(\"File written successfully.\")\n"
   ]
  },
  {
   "cell_type": "code",
   "execution_count": 2,
   "id": "66468996-9ef4-4f8b-b133-288cb13c554c",
   "metadata": {},
   "outputs": [
    {
     "name": "stdout",
     "output_type": "stream",
     "text": [
      "Hello, world!\n",
      "File read successfully.\n"
     ]
    }
   ],
   "source": [
    "#2-  Write a Python program to read the contents of a file and print each line\n",
    "# Open the file in read mode ('r')\n",
    "with open(\"example.txt\", \"r\") as file:\n",
    "    for line in file:\n",
    "        print(line.strip())  # Removes extra newline characters\n",
    "\n",
    "print(\"File read successfully.\")\n"
   ]
  },
  {
   "cell_type": "code",
   "execution_count": 3,
   "id": "1b0de3f4-6d38-4690-9464-0f5880a25ae3",
   "metadata": {},
   "outputs": [
    {
     "name": "stdout",
     "output_type": "stream",
     "text": [
      "Error: The file does not exist.\n"
     ]
    }
   ],
   "source": [
    "#3- How would you handle a case where the file doesn't exist while trying to open it for reading\n",
    "try:\n",
    "    with open(\"non_existent_file.txt\", \"r\") as file:\n",
    "        content = file.read()\n",
    "        print(content)\n",
    "except FileNotFoundError:\n",
    "    print(\"Error: The file does not exist.\")\n"
   ]
  },
  {
   "cell_type": "code",
   "execution_count": 4,
   "id": "07efc726-fd53-44eb-921b-486ecab2db36",
   "metadata": {},
   "outputs": [
    {
     "name": "stdout",
     "output_type": "stream",
     "text": [
      "Error: source.txt does not exist.\n"
     ]
    }
   ],
   "source": [
    "#4- Write a Python script that reads from one file and writes its content to another file\n",
    "# Define input and output file names\n",
    "input_file = \"source.txt\"\n",
    "output_file = \"destination.txt\"\n",
    "\n",
    "try:\n",
    "\n",
    "    with open(input_file, \"r\") as infile:\n",
    "        content = infile.read()  # Read the entire content\n",
    "    \n",
    "    with open(output_file, \"w\") as outfile:\n",
    "        outfile.write(content)\n",
    "\n",
    "    print(f\"Content copied from {input_file} to {output_file} successfully.\")\n",
    "\n",
    "except FileNotFoundError:\n",
    "    print(f\"Error: {input_file} does not exist.\")\n"
   ]
  },
  {
   "cell_type": "code",
   "execution_count": 5,
   "id": "0b9cc5ae-286e-45dd-8942-a01802ecf7dc",
   "metadata": {},
   "outputs": [
    {
     "name": "stdout",
     "output_type": "stream",
     "text": [
      "Error: Division by zero is not allowed.\n"
     ]
    }
   ],
   "source": [
    "#5-  How would you catch and handle division by zero error in Python\n",
    "try:\n",
    "    num = 10\n",
    "    denom = 0  # This will cause a ZeroDivisionError\n",
    "    result = num / denom\n",
    "    print(result)\n",
    "except ZeroDivisionError:\n",
    "    print(\"Error: Division by zero is not allowed.\")\n"
   ]
  },
  {
   "cell_type": "code",
   "execution_count": 6,
   "id": "87689d73-4140-49e6-b4a7-ee81ba6371c9",
   "metadata": {},
   "outputs": [
    {
     "name": "stdout",
     "output_type": "stream",
     "text": [
      "Error logged successfully.\n"
     ]
    }
   ],
   "source": [
    "#6-  Write a Python program that logs an error message to a log file when a division by zero exception occurs\n",
    "import logging\n",
    "\n",
    "# Configure logging to write errors to a file\n",
    "logging.basicConfig(filename=\"error_log.txt\", level=logging.ERROR, format=\"%(asctime)s - %(levelname)s - %(message)s\")\n",
    "\n",
    "try:\n",
    "    num = 10\n",
    "    denom = 0  # This will cause a ZeroDivisionError\n",
    "    result = num / denom\n",
    "except ZeroDivisionError:\n",
    "    logging.error(\"Attempted to divide by zero.\")\n",
    "\n",
    "print(\"Error logged successfully.\")\n"
   ]
  },
  {
   "cell_type": "code",
   "execution_count": 7,
   "id": "cd3f7101-8cd0-4c9b-8af1-d4a5f074c204",
   "metadata": {},
   "outputs": [
    {
     "name": "stdout",
     "output_type": "stream",
     "text": [
      "Logging completed. Check 'app.log' for details.\n"
     ]
    }
   ],
   "source": [
    "#7-  How do you log information at different levels (INFO, ERROR, WARNING) in Python using the logging module\n",
    "import logging\n",
    "\n",
    "# Configure logging to display messages with different severity levels\n",
    "logging.basicConfig(\n",
    "    filename=\"app.log\",\n",
    "    level=logging.DEBUG,\n",
    "    format=\"%(asctime)s - %(levelname)s - %(message)s\"  \n",
    ")\n",
    "\n",
    "logging.debug(\"This is a DEBUG message (useful for troubleshooting).\")\n",
    "logging.info(\"This is an INFO message (general progress updates).\")\n",
    "logging.warning(\"This is a WARNING message (something might be wrong).\")\n",
    "logging.error(\"This is an ERROR message (an issue occurred).\")\n",
    "logging.critical(\"This is a CRITICAL message (serious failure).\")\n",
    "\n",
    "print(\"Logging completed. Check 'app.log' for details.\")\n"
   ]
  },
  {
   "cell_type": "code",
   "execution_count": 8,
   "id": "b3db0dc4-025c-49cd-ab25-e9d3b7955e88",
   "metadata": {},
   "outputs": [
    {
     "name": "stdout",
     "output_type": "stream",
     "text": [
      "Error: The file does not exist. Please check the file name and try again.\n"
     ]
    }
   ],
   "source": [
    "#8-  Write a program to handle a file opening error using exception handling\n",
    "try:\n",
    "    with open(\"non_existent_file.txt\", \"r\") as file:\n",
    "        content = file.read()\n",
    "        print(content)\n",
    "except FileNotFoundError:\n",
    "    print(\"Error: The file does not exist. Please check the file name and try again.\")\n",
    "except PermissionError:\n",
    "    print(\"Error: You do not have permission to access this file.\")\n",
    "except Exception as e:\n",
    "    print(f\"An unexpected error occurred: {e}\")\n"
   ]
  },
  {
   "cell_type": "code",
   "execution_count": 10,
   "id": "56e3f2e6-e9b9-483a-81fa-8a8afb62d1ef",
   "metadata": {},
   "outputs": [
    {
     "name": "stdout",
     "output_type": "stream",
     "text": [
      "['Hello, world!']\n"
     ]
    }
   ],
   "source": [
    "#9-  How can you read a file line by line and store its content in a list in Python\n",
    "# Open the file in read mode ('r')\n",
    "with open(\"example.txt\", \"r\") as file:\n",
    "    lines = file.readlines() \n",
    "\n",
    "lines = [line.strip() for line in lines]\n",
    "\n",
    "print(lines) \n"
   ]
  },
  {
   "cell_type": "code",
   "execution_count": 11,
   "id": "d0500e00-ff43-408b-bca7-049a0d024d55",
   "metadata": {},
   "outputs": [
    {
     "name": "stdout",
     "output_type": "stream",
     "text": [
      "Multiple lines appended successfully.\n"
     ]
    }
   ],
   "source": [
    "#10-  How can you append data to an existing file in Python\n",
    "new_data = [\"\\nLine 1\", \"\\nLine 2\", \"\\nLine 3\"]\n",
    "with open(\"example.txt\", \"a\") as file:\n",
    "    file.writelines(new_data)  \n",
    "\n",
    "print(\"Multiple lines appended successfully.\")\n"
   ]
  },
  {
   "cell_type": "code",
   "execution_count": 12,
   "id": "2e898b80-a5eb-47e1-b362-e33a4aebedda",
   "metadata": {},
   "outputs": [
    {
     "name": "stdout",
     "output_type": "stream",
     "text": [
      "File read successfully\n"
     ]
    }
   ],
   "source": [
    "#11- How would you check if a file exists before attempting to read it in Python\n",
    "file_path = 'example.txt'\n",
    "\n",
    "try:\n",
    "    with open(file_path, 'r') as file:\n",
    "        content = file.read()\n",
    "    print(\"File read successfully\")\n",
    "except FileNotFoundError:\n",
    "    print(f\"File {file_path} does not exist\")\n",
    "except IOError as e:\n",
    "    print(f\"Error reading file: {e}\")"
   ]
  },
  {
   "cell_type": "code",
   "execution_count": null,
   "id": "fdca25b7-073c-46d3-b720-f10a1e9e42bc",
   "metadata": {},
   "outputs": [],
   "source": []
  }
 ],
 "metadata": {
  "kernelspec": {
   "display_name": "Python 3 (ipykernel)",
   "language": "python",
   "name": "python3"
  },
  "language_info": {
   "codemirror_mode": {
    "name": "ipython",
    "version": 3
   },
   "file_extension": ".py",
   "mimetype": "text/x-python",
   "name": "python",
   "nbconvert_exporter": "python",
   "pygments_lexer": "ipython3",
   "version": "3.13.3"
  }
 },
 "nbformat": 4,
 "nbformat_minor": 5
}
